{
 "cells": [
  {
   "cell_type": "code",
   "execution_count": 19,
   "metadata": {},
   "outputs": [
    {
     "data": {
      "text/plain": [
       "f (generic function with 1 method)"
      ]
     },
     "execution_count": 19,
     "metadata": {},
     "output_type": "execute_result"
    }
   ],
   "source": [
    "f(x)=sin(x)/(1+x^2)"
   ]
  },
  {
   "cell_type": "code",
   "execution_count": 20,
   "metadata": {},
   "outputs": [],
   "source": [
    "using BenchmarkTools"
   ]
  },
  {
   "cell_type": "code",
   "execution_count": 21,
   "metadata": {},
   "outputs": [
    {
     "name": "stdout",
     "output_type": "stream",
     "text": [
      "f (function of type typeof(f))\n"
     ]
    }
   ],
   "source": [
    "dump(f)"
   ]
  },
  {
   "cell_type": "code",
   "execution_count": 22,
   "metadata": {},
   "outputs": [],
   "source": [
    "xx=rand(1000000);"
   ]
  },
  {
   "cell_type": "code",
   "execution_count": 23,
   "metadata": {},
   "outputs": [
    {
     "data": {
      "text/plain": [
       "BenchmarkTools.Trial: \n",
       "  memory estimate:  7.63 MiB\n",
       "  allocs estimate:  4\n",
       "  --------------\n",
       "  minimum time:     10.499 ms (0.00% GC)\n",
       "  median time:      11.756 ms (0.00% GC)\n",
       "  mean time:        13.035 ms (9.52% GC)\n",
       "  maximum time:     78.210 ms (85.90% GC)\n",
       "  --------------\n",
       "  samples:          384\n",
       "  evals/sample:     1"
      ]
     },
     "execution_count": 23,
     "metadata": {},
     "output_type": "execute_result"
    }
   ],
   "source": [
    "@benchmark y=f.(xx)"
   ]
  },
  {
   "cell_type": "code",
   "execution_count": 24,
   "metadata": {},
   "outputs": [
    {
     "data": {
      "text/plain": [
       "BenchmarkTools.Trial: \n",
       "  memory estimate:  7.63 MiB\n",
       "  allocs estimate:  4\n",
       "  --------------\n",
       "  minimum time:     10.342 ms (0.00% GC)\n",
       "  median time:      12.105 ms (0.00% GC)\n",
       "  mean time:        13.083 ms (9.50% GC)\n",
       "  maximum time:     79.495 ms (85.78% GC)\n",
       "  --------------\n",
       "  samples:          382\n",
       "  evals/sample:     1"
      ]
     },
     "execution_count": 24,
     "metadata": {},
     "output_type": "execute_result"
    }
   ],
   "source": [
    "@benchmark y=f.(xx)"
   ]
  },
  {
   "cell_type": "code",
   "execution_count": 27,
   "metadata": {},
   "outputs": [
    {
     "name": "stdout",
     "output_type": "stream",
     "text": [
      "\t.text\n",
      "; Function f {\n",
      "; Location: In[19]:1\n",
      "\tpushq\t%rbp\n",
      "\tmovq\t%rsp, %rbp\n",
      "\tsubq\t$48, %rsp\n",
      "\tvmovaps\t%xmm6, -16(%rbp)\n",
      "\tvmovapd\t%xmm0, %xmm6\n",
      "\tmovabsq\t$sin, %rax\n",
      "\tvmovapd\t%xmm6, %xmm0\n",
      "\tcallq\t*%rax\n",
      "; Function literal_pow; {\n",
      "; Location: intfuncs.jl:243\n",
      "; Function *; {\n",
      "; Location: float.jl:399\n",
      "\tvmulsd\t%xmm6, %xmm6, %xmm1\n",
      "\tmovabsq\t$335436560, %rax        # imm = 0x13FE5B10\n",
      ";}}\n",
      "; Function +; {\n",
      "; Location: promotion.jl:313\n",
      "; Function +; {\n",
      "; Location: float.jl:395\n",
      "\tvaddsd\t(%rax), %xmm1, %xmm1\n",
      ";}}\n",
      "; Function /; {\n",
      "; Location: float.jl:401\n",
      "\tvdivsd\t%xmm1, %xmm0, %xmm0\n",
      ";}\n",
      "\tvmovaps\t-16(%rbp), %xmm6\n",
      "\taddq\t$48, %rsp\n",
      "\tpopq\t%rbp\n",
      "\tretq\n",
      "\tnopw\t%cs:(%rax,%rax)\n",
      ";}\n"
     ]
    }
   ],
   "source": [
    "@code_native f(12.0)\n"
   ]
  },
  {
   "cell_type": "code",
   "execution_count": 28,
   "metadata": {},
   "outputs": [
    {
     "name": "stdout",
     "output_type": "stream",
     "text": [
      "\n",
      "; Function f\n",
      "; Location: In[19]:1\n",
      "; Function Attrs: uwtable\n",
      "define double @julia_f_36525(double) #0 {\n",
      "top:\n",
      "  %1 = call double @julia_sin_36377(double %0)\n",
      "; Function literal_pow; {\n",
      "; Location: intfuncs.jl:243\n",
      "; Function *; {\n",
      "; Location: float.jl:399\n",
      "  %2 = fmul double %0, %0\n",
      ";}}\n",
      "; Function +; {\n",
      "; Location: promotion.jl:313\n",
      "; Function +; {\n",
      "; Location: float.jl:395\n",
      "  %3 = fadd double %2, 1.000000e+00\n",
      ";}}\n",
      "; Function /; {\n",
      "; Location: float.jl:401\n",
      "  %4 = fdiv double %1, %3\n",
      ";}\n",
      "  ret double %4\n",
      "}\n"
     ]
    }
   ],
   "source": [
    "@code_llvm f(12.0)"
   ]
  },
  {
   "cell_type": "code",
   "execution_count": 29,
   "metadata": {},
   "outputs": [
    {
     "name": "stdout",
     "output_type": "stream",
     "text": [
      "\u001b[32m\u001b[1m    Status\u001b[22m\u001b[39m `C:\\Users\\sdvh6\\.julia\\environments\\v1.0\\Project.toml`\n",
      " \u001b[90m [c52e3926]\u001b[39m\u001b[37m Atom v0.7.11\u001b[39m\n",
      " \u001b[90m [6e4b80f9]\u001b[39m\u001b[37m BenchmarkTools v0.4.1\u001b[39m\n",
      " \u001b[90m [a93c6f00]\u001b[39m\u001b[37m DataFrames v0.16.0\u001b[39m\n",
      " \u001b[90m [5789e2e9]\u001b[39m\u001b[37m FileIO v1.0.4\u001b[39m\n",
      " \u001b[90m [7073ff75]\u001b[39m\u001b[37m IJulia v1.15.0\u001b[39m\n",
      " \u001b[90m [e5e0dc1b]\u001b[39m\u001b[37m Juno v0.5.3\u001b[39m\n",
      " \u001b[90m [1914dd2f]\u001b[39m\u001b[37m MacroTools v0.4.4\u001b[39m\n",
      " \u001b[90m [91a5bcdd]\u001b[39m\u001b[37m Plots v0.22.2\u001b[39m\n"
     ]
    }
   ],
   "source": [
    "]status"
   ]
  },
  {
   "cell_type": "code",
   "execution_count": 30,
   "metadata": {},
   "outputs": [
    {
     "data": {
      "text/plain": [
       "2"
      ]
     },
     "execution_count": 30,
     "metadata": {},
     "output_type": "execute_result"
    }
   ],
   "source": [
    "2"
   ]
  },
  {
   "cell_type": "code",
   "execution_count": 31,
   "metadata": {},
   "outputs": [
    {
     "name": "stdout",
     "output_type": "stream",
     "text": [
      "\u001b[32m\u001b[1m  Updating\u001b[22m\u001b[39m registry at `C:\\Users\\sdvh6\\.julia\\registries\\General`\n",
      "\u001b[32m\u001b[1m  Updating\u001b[22m\u001b[39m git-repo `https://github.com/JuliaRegistries/General.git`\n",
      "\u001b[2K\u001b[?25h\u001b[32m\u001b[1m Resolving\u001b[22m\u001b[39m package versions...\n",
      "\u001b[32m\u001b[1m Installed\u001b[22m\u001b[39m IJulia ─ v1.15.1\n",
      "\u001b[32m\u001b[1m Installed\u001b[22m\u001b[39m Plots ── v0.22.3\n",
      "\u001b[32m\u001b[1m Installed\u001b[22m\u001b[39m Atom ─── v0.7.12\n",
      "\u001b[32m\u001b[1m  Updating\u001b[22m\u001b[39m `C:\\Users\\sdvh6\\.julia\\environments\\v1.0\\Project.toml`\n",
      " \u001b[90m [c52e3926]\u001b[39m\u001b[93m ↑ Atom v0.7.11 ⇒ v0.7.12\u001b[39m\n",
      " \u001b[90m [7073ff75]\u001b[39m\u001b[93m ↑ IJulia v1.15.0 ⇒ v1.15.1\u001b[39m\n",
      " \u001b[90m [91a5bcdd]\u001b[39m\u001b[93m ↑ Plots v0.22.2 ⇒ v0.22.3\u001b[39m\n",
      "\u001b[32m\u001b[1m  Updating\u001b[22m\u001b[39m `C:\\Users\\sdvh6\\.julia\\environments\\v1.0\\Manifest.toml`\n",
      " \u001b[90m [c52e3926]\u001b[39m\u001b[93m ↑ Atom v0.7.11 ⇒ v0.7.12\u001b[39m\n",
      " \u001b[90m [7073ff75]\u001b[39m\u001b[93m ↑ IJulia v1.15.0 ⇒ v1.15.1\u001b[39m\n",
      " \u001b[90m [91a5bcdd]\u001b[39m\u001b[93m ↑ Plots v0.22.2 ⇒ v0.22.3\u001b[39m\n",
      "\u001b[32m\u001b[1m  Building\u001b[22m\u001b[39m IJulia → `C:\\Users\\sdvh6\\.julia\\packages\\IJulia\\3k6Fz\\deps\\build.log`\n",
      "\u001b[32m\u001b[1m  Building\u001b[22m\u001b[39m Plots ─→ `C:\\Users\\sdvh6\\.julia\\packages\\Plots\\cxnAH\\deps\\build.log`\n"
     ]
    }
   ],
   "source": [
    "]up"
   ]
  },
  {
   "cell_type": "code",
   "execution_count": 32,
   "metadata": {},
   "outputs": [
    {
     "name": "stdout",
     "output_type": "stream",
     "text": [
      "\u001b[32m\u001b[1m    Status\u001b[22m\u001b[39m `C:\\Users\\sdvh6\\.julia\\environments\\v1.0\\Project.toml`\n",
      " \u001b[90m [c52e3926]\u001b[39m\u001b[37m Atom v0.7.12\u001b[39m\n",
      " \u001b[90m [6e4b80f9]\u001b[39m\u001b[37m BenchmarkTools v0.4.1\u001b[39m\n",
      " \u001b[90m [a93c6f00]\u001b[39m\u001b[37m DataFrames v0.16.0\u001b[39m\n",
      " \u001b[90m [5789e2e9]\u001b[39m\u001b[37m FileIO v1.0.4\u001b[39m\n",
      " \u001b[90m [7073ff75]\u001b[39m\u001b[37m IJulia v1.15.1\u001b[39m\n",
      " \u001b[90m [e5e0dc1b]\u001b[39m\u001b[37m Juno v0.5.3\u001b[39m\n",
      " \u001b[90m [1914dd2f]\u001b[39m\u001b[37m MacroTools v0.4.4\u001b[39m\n",
      " \u001b[90m [91a5bcdd]\u001b[39m\u001b[37m Plots v0.22.3\u001b[39m\n"
     ]
    }
   ],
   "source": [
    "]status"
   ]
  },
  {
   "cell_type": "code",
   "execution_count": 33,
   "metadata": {},
   "outputs": [
    {
     "data": {
      "text/plain": [
       "\"人人生而自由，在尊严和权利上一律平等。\""
      ]
     },
     "execution_count": 33,
     "metadata": {},
     "output_type": "execute_result"
    }
   ],
   "source": [
    "UniversalDeclarationOfHumanRightsStart = \"人人生而自由，在尊严和权利上一律平等。\"\n",
    "\"人人生而自由，在尊严和权利上一律平等。\""
   ]
  },
  {
   "cell_type": "code",
   "execution_count": 34,
   "metadata": {},
   "outputs": [
    {
     "name": "stdout",
     "output_type": "stream",
     "text": [
      "String \"人人生而自由，在尊严和权利上一律平等。\"\n"
     ]
    }
   ],
   "source": [
    "dump(UniversalDeclarationOfHumanRightsStart)"
   ]
  },
  {
   "cell_type": "code",
   "execution_count": 35,
   "metadata": {},
   "outputs": [
    {
     "data": {
      "text/plain": [
       "\"人人生而自由，在尊严和权利上一律平等。\""
      ]
     },
     "execution_count": 35,
     "metadata": {},
     "output_type": "execute_result"
    }
   ],
   "source": [
    "foo=UniversalDeclarationOfHumanRightsStart"
   ]
  },
  {
   "cell_type": "code",
   "execution_count": 36,
   "metadata": {},
   "outputs": [
    {
     "data": {
      "text/plain": [
       "'人': Unicode U+4eba (category Lo: Letter, other)"
      ]
     },
     "execution_count": 36,
     "metadata": {},
     "output_type": "execute_result"
    }
   ],
   "source": [
    "foo[1]"
   ]
  },
  {
   "cell_type": "code",
   "execution_count": 38,
   "metadata": {},
   "outputs": [
    {
     "data": {
      "text/plain": [
       "'人': Unicode U+4eba (category Lo: Letter, other)"
      ]
     },
     "metadata": {},
     "output_type": "display_data"
    },
    {
     "data": {
      "text/plain": [
       "'人': Unicode U+4eba (category Lo: Letter, other)"
      ]
     },
     "metadata": {},
     "output_type": "display_data"
    },
    {
     "data": {
      "text/plain": [
       "'生': Unicode U+751f (category Lo: Letter, other)"
      ]
     },
     "metadata": {},
     "output_type": "display_data"
    },
    {
     "data": {
      "text/plain": [
       "'而': Unicode U+800c (category Lo: Letter, other)"
      ]
     },
     "metadata": {},
     "output_type": "display_data"
    },
    {
     "data": {
      "text/plain": [
       "'自': Unicode U+81ea (category Lo: Letter, other)"
      ]
     },
     "metadata": {},
     "output_type": "display_data"
    },
    {
     "data": {
      "text/plain": [
       "'由': Unicode U+7531 (category Lo: Letter, other)"
      ]
     },
     "metadata": {},
     "output_type": "display_data"
    },
    {
     "data": {
      "text/plain": [
       "'，': Unicode U+ff0c (category Po: Punctuation, other)"
      ]
     },
     "metadata": {},
     "output_type": "display_data"
    },
    {
     "data": {
      "text/plain": [
       "'在': Unicode U+5728 (category Lo: Letter, other)"
      ]
     },
     "metadata": {},
     "output_type": "display_data"
    },
    {
     "data": {
      "text/plain": [
       "'尊': Unicode U+5c0a (category Lo: Letter, other)"
      ]
     },
     "metadata": {},
     "output_type": "display_data"
    },
    {
     "data": {
      "text/plain": [
       "'严': Unicode U+4e25 (category Lo: Letter, other)"
      ]
     },
     "metadata": {},
     "output_type": "display_data"
    },
    {
     "data": {
      "text/plain": [
       "'和': Unicode U+548c (category Lo: Letter, other)"
      ]
     },
     "metadata": {},
     "output_type": "display_data"
    },
    {
     "data": {
      "text/plain": [
       "'权': Unicode U+6743 (category Lo: Letter, other)"
      ]
     },
     "metadata": {},
     "output_type": "display_data"
    },
    {
     "data": {
      "text/plain": [
       "'利': Unicode U+5229 (category Lo: Letter, other)"
      ]
     },
     "metadata": {},
     "output_type": "display_data"
    },
    {
     "data": {
      "text/plain": [
       "'上': Unicode U+4e0a (category Lo: Letter, other)"
      ]
     },
     "metadata": {},
     "output_type": "display_data"
    },
    {
     "data": {
      "text/plain": [
       "'一': Unicode U+4e00 (category Lo: Letter, other)"
      ]
     },
     "metadata": {},
     "output_type": "display_data"
    },
    {
     "data": {
      "text/plain": [
       "'律': Unicode U+5f8b (category Lo: Letter, other)"
      ]
     },
     "metadata": {},
     "output_type": "display_data"
    },
    {
     "data": {
      "text/plain": [
       "'平': Unicode U+5e73 (category Lo: Letter, other)"
      ]
     },
     "metadata": {},
     "output_type": "display_data"
    },
    {
     "data": {
      "text/plain": [
       "'等': Unicode U+7b49 (category Lo: Letter, other)"
      ]
     },
     "metadata": {},
     "output_type": "display_data"
    },
    {
     "data": {
      "text/plain": [
       "'。': Unicode U+3002 (category Po: Punctuation, other)"
      ]
     },
     "metadata": {},
     "output_type": "display_data"
    }
   ],
   "source": [
    "for i in foo; display(i); end\n"
   ]
  },
  {
   "cell_type": "code",
   "execution_count": 39,
   "metadata": {},
   "outputs": [
    {
     "name": "stdout",
     "output_type": "stream",
     "text": [
      "search: \u001b[0m\u001b[1md\u001b[22m\u001b[0m\u001b[1mi\u001b[22m\u001b[0m\u001b[1ms\u001b[22m\u001b[0m\u001b[1mp\u001b[22m\u001b[0m\u001b[1ml\u001b[22m\u001b[0m\u001b[1ma\u001b[22m\u001b[0m\u001b[1my\u001b[22m \u001b[0m\u001b[1md\u001b[22m\u001b[0m\u001b[1mi\u001b[22m\u001b[0m\u001b[1ms\u001b[22m\u001b[0m\u001b[1mp\u001b[22m\u001b[0m\u001b[1ml\u001b[22m\u001b[0m\u001b[1ma\u001b[22m\u001b[0m\u001b[1my\u001b[22msize \u001b[0m\u001b[1md\u001b[22m\u001b[0m\u001b[1mi\u001b[22m\u001b[0m\u001b[1ms\u001b[22m\u001b[0m\u001b[1mp\u001b[22m\u001b[0m\u001b[1ml\u001b[22m\u001b[0m\u001b[1ma\u001b[22m\u001b[0m\u001b[1my\u001b[22mable re\u001b[0m\u001b[1md\u001b[22m\u001b[0m\u001b[1mi\u001b[22m\u001b[0m\u001b[1ms\u001b[22m\u001b[0m\u001b[1mp\u001b[22m\u001b[0m\u001b[1ml\u001b[22m\u001b[0m\u001b[1ma\u001b[22m\u001b[0m\u001b[1my\u001b[22m pop\u001b[0m\u001b[1md\u001b[22m\u001b[0m\u001b[1mi\u001b[22m\u001b[0m\u001b[1ms\u001b[22m\u001b[0m\u001b[1mp\u001b[22m\u001b[0m\u001b[1ml\u001b[22m\u001b[0m\u001b[1ma\u001b[22m\u001b[0m\u001b[1my\u001b[22m push\u001b[0m\u001b[1md\u001b[22m\u001b[0m\u001b[1mi\u001b[22m\u001b[0m\u001b[1ms\u001b[22m\u001b[0m\u001b[1mp\u001b[22m\u001b[0m\u001b[1ml\u001b[22m\u001b[0m\u001b[1ma\u001b[22m\u001b[0m\u001b[1my\u001b[22m\n",
      "\n"
     ]
    },
    {
     "data": {
      "text/latex": [
       "\\begin{verbatim}\n",
       "display(x)\n",
       "display(d::AbstractDisplay, x)\n",
       "display(mime, x)\n",
       "display(d::AbstractDisplay, mime, x)\n",
       "\\end{verbatim}\n",
       "AbstractDisplay \\texttt{x} using the topmost applicable display in the display stack, typically using the richest supported multimedia output for \\texttt{x}, with plain-text \\href{@ref}{\\texttt{stdout}} output as a fallback. The \\texttt{display(d, x)} variant attempts to display \\texttt{x} on the given display \\texttt{d} only, throwing a \\href{@ref}{\\texttt{MethodError}} if \\texttt{d} cannot display objects of this type.\n",
       "\n",
       "In general, you cannot assume that \\texttt{display} output goes to \\texttt{stdout} (unlike \\href{@ref}{\\texttt{print(x)}} or \\href{@ref}{\\texttt{show(x)}}).  For example, \\texttt{display(x)} may open up a separate window with an image. \\texttt{display(x)} means \"show \\texttt{x} in the best way you can for the current output device(s).\" If you want REPL-like text output that is guaranteed to go to \\texttt{stdout}, use \\href{@ref}{\\texttt{show(stdout, \"text/plain\", x)}} instead.\n",
       "\n",
       "There are also two variants with a \\texttt{mime} argument (a MIME type string, such as \\texttt{\"image/png\"}), which attempt to display \\texttt{x} using the requested MIME type \\emph{only}, throwing a \\texttt{MethodError} if this type is not supported by either the display(s) or by \\texttt{x}. With these variants, one can also supply the \"raw\" data in the requested MIME type by passing \\texttt{x::AbstractString} (for MIME types with text-based storage, such as text/html or application/postscript) or \\texttt{x::Vector\\{UInt8\\}} (for binary MIME types).\n",
       "\n"
      ],
      "text/markdown": [
       "```\n",
       "display(x)\n",
       "display(d::AbstractDisplay, x)\n",
       "display(mime, x)\n",
       "display(d::AbstractDisplay, mime, x)\n",
       "```\n",
       "\n",
       "AbstractDisplay `x` using the topmost applicable display in the display stack, typically using the richest supported multimedia output for `x`, with plain-text [`stdout`](@ref) output as a fallback. The `display(d, x)` variant attempts to display `x` on the given display `d` only, throwing a [`MethodError`](@ref) if `d` cannot display objects of this type.\n",
       "\n",
       "In general, you cannot assume that `display` output goes to `stdout` (unlike [`print(x)`](@ref) or [`show(x)`](@ref)).  For example, `display(x)` may open up a separate window with an image. `display(x)` means \"show `x` in the best way you can for the current output device(s).\" If you want REPL-like text output that is guaranteed to go to `stdout`, use [`show(stdout, \"text/plain\", x)`](@ref) instead.\n",
       "\n",
       "There are also two variants with a `mime` argument (a MIME type string, such as `\"image/png\"`), which attempt to display `x` using the requested MIME type *only*, throwing a `MethodError` if this type is not supported by either the display(s) or by `x`. With these variants, one can also supply the \"raw\" data in the requested MIME type by passing `x::AbstractString` (for MIME types with text-based storage, such as text/html or application/postscript) or `x::Vector{UInt8}` (for binary MIME types).\n"
      ],
      "text/plain": [
       "\u001b[36m  display(x)\u001b[39m\n",
       "\u001b[36m  display(d::AbstractDisplay, x)\u001b[39m\n",
       "\u001b[36m  display(mime, x)\u001b[39m\n",
       "\u001b[36m  display(d::AbstractDisplay, mime, x)\u001b[39m\n",
       "\n",
       "  AbstractDisplay \u001b[36mx\u001b[39m using the topmost applicable display in the display stack,\n",
       "  typically using the richest supported multimedia output for \u001b[36mx\u001b[39m, with\n",
       "  plain-text \u001b[36mstdout\u001b[39m output as a fallback. The \u001b[36mdisplay(d, x)\u001b[39m variant attempts\n",
       "  to display \u001b[36mx\u001b[39m on the given display \u001b[36md\u001b[39m only, throwing a \u001b[36mMethodError\u001b[39m if \u001b[36md\u001b[39m cannot\n",
       "  display objects of this type.\n",
       "\n",
       "  In general, you cannot assume that \u001b[36mdisplay\u001b[39m output goes to \u001b[36mstdout\u001b[39m (unlike\n",
       "  \u001b[36mprint(x)\u001b[39m or \u001b[36mshow(x)\u001b[39m). For example, \u001b[36mdisplay(x)\u001b[39m may open up a separate window\n",
       "  with an image. \u001b[36mdisplay(x)\u001b[39m means \"show \u001b[36mx\u001b[39m in the best way you can for the\n",
       "  current output device(s).\" If you want REPL-like text output that is\n",
       "  guaranteed to go to \u001b[36mstdout\u001b[39m, use \u001b[36mshow(stdout, \"text/plain\", x)\u001b[39m instead.\n",
       "\n",
       "  There are also two variants with a \u001b[36mmime\u001b[39m argument (a MIME type string, such\n",
       "  as \u001b[36m\"image/png\"\u001b[39m), which attempt to display \u001b[36mx\u001b[39m using the requested MIME type\n",
       "  \u001b[4monly\u001b[24m, throwing a \u001b[36mMethodError\u001b[39m if this type is not supported by either the\n",
       "  display(s) or by \u001b[36mx\u001b[39m. With these variants, one can also supply the \"raw\" data\n",
       "  in the requested MIME type by passing \u001b[36mx::AbstractString\u001b[39m (for MIME types with\n",
       "  text-based storage, such as text/html or application/postscript) or\n",
       "  \u001b[36mx::Vector{UInt8}\u001b[39m (for binary MIME types)."
      ]
     },
     "execution_count": 39,
     "metadata": {},
     "output_type": "execute_result"
    }
   ],
   "source": [
    "?display"
   ]
  },
  {
   "cell_type": "code",
   "execution_count": 40,
   "metadata": {},
   "outputs": [
    {
     "data": {
      "text/plain": [
       "3"
      ]
     },
     "execution_count": 40,
     "metadata": {},
     "output_type": "execute_result"
    }
   ],
   "source": [
    "β=3"
   ]
  },
  {
   "cell_type": "code",
   "execution_count": 41,
   "metadata": {},
   "outputs": [
    {
     "name": "stdout",
     "output_type": "stream",
     "text": [
      "\"\u001b[36mβ\u001b[39m\" can be typed by \u001b[36m\\beta<tab>\u001b[39m\n",
      "\n",
      "search: \u001b[0m\u001b[1mβ\u001b[22m\n",
      "\n"
     ]
    },
    {
     "data": {
      "text/latex": [
       "No documentation found.\n",
       "\n",
       "\\texttt{β} is of type \\texttt{Int64}.\n",
       "\n",
       "\\section{Summary}\n",
       "\\begin{verbatim}\n",
       "primitive type Int64 <: Signed\n",
       "\\end{verbatim}\n",
       "\\section{Supertype Hierarchy}\n",
       "\\begin{verbatim}\n",
       "Int64 <: Signed <: Integer <: Real <: Number <: Any\n",
       "\\end{verbatim}\n"
      ],
      "text/markdown": [
       "No documentation found.\n",
       "\n",
       "`β` is of type `Int64`.\n",
       "\n",
       "# Summary\n",
       "\n",
       "```\n",
       "primitive type Int64 <: Signed\n",
       "```\n",
       "\n",
       "# Supertype Hierarchy\n",
       "\n",
       "```\n",
       "Int64 <: Signed <: Integer <: Real <: Number <: Any\n",
       "```\n"
      ],
      "text/plain": [
       "  No documentation found.\n",
       "\n",
       "  \u001b[36mβ\u001b[39m is of type \u001b[36mInt64\u001b[39m.\n",
       "\n",
       "\u001b[1m  Summary\u001b[22m\n",
       "\u001b[1m  ≡≡≡≡≡≡≡≡≡\u001b[22m\n",
       "\n",
       "\u001b[36m  primitive type Int64 <: Signed\u001b[39m\n",
       "\n",
       "\u001b[1m  Supertype Hierarchy\u001b[22m\n",
       "\u001b[1m  ≡≡≡≡≡≡≡≡≡≡≡≡≡≡≡≡≡≡≡≡≡\u001b[22m\n",
       "\n",
       "\u001b[36m  Int64 <: Signed <: Integer <: Real <: Number <: Any\u001b[39m"
      ]
     },
     "execution_count": 41,
     "metadata": {},
     "output_type": "execute_result"
    }
   ],
   "source": [
    "?β"
   ]
  },
  {
   "cell_type": "code",
   "execution_count": 42,
   "metadata": {},
   "outputs": [
    {
     "ename": "LoadError",
     "evalue": "syntax: invalid identifier name \"+=\"",
     "output_type": "error",
     "traceback": [
      "syntax: invalid identifier name \"+=\"",
      ""
     ]
    }
   ],
   "source": [
    "+="
   ]
  },
  {
   "cell_type": "code",
   "execution_count": 43,
   "metadata": {},
   "outputs": [
    {
     "ename": "ErrorException",
     "evalue": "expression is not a function call, or is too complex for @code_llvm to analyze; break it down to simpler parts if possible",
     "output_type": "error",
     "traceback": [
      "expression is not a function call, or is too complex for @code_llvm to analyze; break it down to simpler parts if possible",
      "",
      "Stacktrace:",
      " [1] error(::String) at .\\error.jl:33",
      " [2] top-level scope at In[43]:1"
     ]
    }
   ],
   "source": [
    "@code_llvm x+=1"
   ]
  },
  {
   "cell_type": "code",
   "execution_count": 44,
   "metadata": {},
   "outputs": [
    {
     "ename": "ErrorException",
     "evalue": "expression is not a function call, or is too complex for @code_llvm to analyze; break it down to simpler parts if possible",
     "output_type": "error",
     "traceback": [
      "expression is not a function call, or is too complex for @code_llvm to analyze; break it down to simpler parts if possible",
      "",
      "Stacktrace:",
      " [1] error(::String) at .\\error.jl:33",
      " [2] top-level scope at In[44]:1"
     ]
    }
   ],
   "source": [
    "@code_llvm x += 1"
   ]
  },
  {
   "cell_type": "code",
   "execution_count": 45,
   "metadata": {},
   "outputs": [
    {
     "data": {
      "text/plain": [
       "ff! (generic function with 1 method)"
      ]
     },
     "execution_count": 45,
     "metadata": {},
     "output_type": "execute_result"
    }
   ],
   "source": [
    "function ff!(x)\n",
    "    x[1] += 12\n",
    "end"
   ]
  },
  {
   "cell_type": "code",
   "execution_count": 47,
   "metadata": {},
   "outputs": [
    {
     "data": {
      "text/plain": [
       "10-element Array{Int64,1}:\n",
       "  1\n",
       "  2\n",
       "  3\n",
       "  4\n",
       "  5\n",
       "  6\n",
       "  7\n",
       "  8\n",
       "  9\n",
       " 10"
      ]
     },
     "execution_count": 47,
     "metadata": {},
     "output_type": "execute_result"
    }
   ],
   "source": [
    "q=[1:10...]"
   ]
  },
  {
   "cell_type": "code",
   "execution_count": 48,
   "metadata": {},
   "outputs": [
    {
     "data": {
      "text/plain": [
       "13"
      ]
     },
     "execution_count": 48,
     "metadata": {},
     "output_type": "execute_result"
    }
   ],
   "source": [
    "ff!(q)"
   ]
  },
  {
   "cell_type": "code",
   "execution_count": 49,
   "metadata": {},
   "outputs": [
    {
     "data": {
      "text/plain": [
       "10-element Array{Int64,1}:\n",
       " 13\n",
       "  2\n",
       "  3\n",
       "  4\n",
       "  5\n",
       "  6\n",
       "  7\n",
       "  8\n",
       "  9\n",
       " 10"
      ]
     },
     "execution_count": 49,
     "metadata": {},
     "output_type": "execute_result"
    }
   ],
   "source": [
    "q"
   ]
  },
  {
   "cell_type": "code",
   "execution_count": 50,
   "metadata": {},
   "outputs": [
    {
     "name": "stdout",
     "output_type": "stream",
     "text": [
      "\n",
      "; Function ff!\n",
      "; Location: In[45]:2\n",
      "; Function Attrs: uwtable\n",
      "define i64 @\"julia_ff!_37224\"(%jl_value_t addrspace(10)* nonnull align 16 dereferenceable(40)) #0 {\n",
      "top:\n",
      "; Function getindex; {\n",
      "; Location: array.jl:731\n",
      "  %1 = addrspacecast %jl_value_t addrspace(10)* %0 to %jl_value_t addrspace(11)*\n",
      "  %2 = bitcast %jl_value_t addrspace(11)* %1 to %jl_array_t addrspace(11)*\n",
      "  %3 = getelementptr inbounds %jl_array_t, %jl_array_t addrspace(11)* %2, i64 0, i32 1\n",
      "  %4 = load i64, i64 addrspace(11)* %3, align 8\n",
      "  %5 = icmp eq i64 %4, 0\n",
      "  br i1 %5, label %oob, label %idxend2\n",
      "\n",
      "oob:                                              ; preds = %top\n",
      "  %6 = alloca i64, align 8\n",
      "  store i64 1, i64* %6, align 8\n",
      "  %7 = addrspacecast %jl_value_t addrspace(10)* %0 to %jl_value_t addrspace(12)*\n",
      "  call void @jl_bounds_error_ints(%jl_value_t addrspace(12)* %7, i64* nonnull %6, i64 1)\n",
      "  unreachable\n",
      "\n",
      "idxend2:                                          ; preds = %top\n",
      "  %8 = bitcast %jl_value_t addrspace(11)* %1 to i64 addrspace(13)* addrspace(11)*\n",
      "  %9 = load i64 addrspace(13)*, i64 addrspace(13)* addrspace(11)* %8, align 8\n",
      "  %10 = load i64, i64 addrspace(13)* %9, align 8\n",
      ";}\n",
      "; Function +; {\n",
      "; Location: int.jl:53\n",
      "  %11 = add i64 %10, 12\n",
      ";}\n",
      "; Function setindex!; {\n",
      "; Location: array.jl:769\n",
      "  store i64 %11, i64 addrspace(13)* %9, align 8\n",
      ";}\n",
      "  ret i64 %11\n",
      "}\n"
     ]
    }
   ],
   "source": [
    "@code_llvm ff!(q)"
   ]
  },
  {
   "cell_type": "code",
   "execution_count": 51,
   "metadata": {},
   "outputs": [],
   "source": [
    "using BenchmarkTools"
   ]
  },
  {
   "cell_type": "code",
   "execution_count": 52,
   "metadata": {},
   "outputs": [
    {
     "data": {
      "text/plain": [
       "BenchmarkTools.Trial: \n",
       "  memory estimate:  16 bytes\n",
       "  allocs estimate:  1\n",
       "  --------------\n",
       "  minimum time:     19.959 ns (0.00% GC)\n",
       "  median time:      21.665 ns (0.00% GC)\n",
       "  mean time:        65.460 ns (12.09% GC)\n",
       "  maximum time:     52.604 μs (99.94% GC)\n",
       "  --------------\n",
       "  samples:          10000\n",
       "  evals/sample:     997"
      ]
     },
     "execution_count": 52,
     "metadata": {},
     "output_type": "execute_result"
    }
   ],
   "source": [
    "@benchmark ff!(q)"
   ]
  },
  {
   "cell_type": "code",
   "execution_count": 53,
   "metadata": {},
   "outputs": [
    {
     "data": {
      "text/latex": [
       "No documentation found.\n",
       "\n",
       "\\texttt{BenchmarkTools.@benchmark} is a macro.\n",
       "\n",
       "\\begin{verbatim}\n",
       "# 1 method for macro \"@benchmark\":\n",
       "[1] @benchmark(__source__::LineNumberNode, __module__::Module, args...) in BenchmarkTools at C:\\Users\\sdvh6\\.julia\\packages\\BenchmarkTools\\dtwnm\\src\\execution.jl:209\n",
       "\\end{verbatim}\n"
      ],
      "text/markdown": [
       "No documentation found.\n",
       "\n",
       "`BenchmarkTools.@benchmark` is a macro.\n",
       "\n",
       "```\n",
       "# 1 method for macro \"@benchmark\":\n",
       "[1] @benchmark(__source__::LineNumberNode, __module__::Module, args...) in BenchmarkTools at C:\\Users\\sdvh6\\.julia\\packages\\BenchmarkTools\\dtwnm\\src\\execution.jl:209\n",
       "```\n"
      ],
      "text/plain": [
       "  No documentation found.\n",
       "\n",
       "  \u001b[36mBenchmarkTools.@benchmark\u001b[39m is a macro.\n",
       "\n",
       "\u001b[36m  # 1 method for macro \"@benchmark\":\u001b[39m\n",
       "\u001b[36m  [1] @benchmark(__source__::LineNumberNode, __module__::Module, args...) in BenchmarkTools at C:\\Users\\sdvh6\\.julia\\packages\\BenchmarkTools\\dtwnm\\src\\execution.jl:209\u001b[39m"
      ]
     },
     "execution_count": 53,
     "metadata": {},
     "output_type": "execute_result"
    }
   ],
   "source": [
    "? @benchmark"
   ]
  },
  {
   "cell_type": "code",
   "execution_count": 57,
   "metadata": {},
   "outputs": [
    {
     "data": {
      "text/plain": [
       "quote\n",
       "    #= C:\\Users\\sdvh6\\.julia\\packages\\BenchmarkTools\\dtwnm\\src\\execution.jl:212 =#\n",
       "    ##377 = begin\n",
       "            #= C:\\Users\\sdvh6\\.julia\\packages\\BenchmarkTools\\dtwnm\\src\\execution.jl:258 =#\n",
       "            (BenchmarkTools).generate_benchmark_definition(Main, Symbol[], Any[], $(Expr(:copyast, :($(QuoteNode(:(ff!(q))))))), $(Expr(:copyast, :($(QuoteNode(nothing))))), $(Expr(:copyast, :($(QuoteNode(nothing))))), (BenchmarkTools.Parameters)())\n",
       "        end\n",
       "    #= C:\\Users\\sdvh6\\.julia\\packages\\BenchmarkTools\\dtwnm\\src\\execution.jl:213 =#\n",
       "    (BenchmarkTools).warmup(##377)\n",
       "    #= C:\\Users\\sdvh6\\.julia\\packages\\BenchmarkTools\\dtwnm\\src\\execution.jl:214 =#\n",
       "    (BenchmarkTools).tune!(##377)\n",
       "    #= C:\\Users\\sdvh6\\.julia\\packages\\BenchmarkTools\\dtwnm\\src\\execution.jl:215 =#\n",
       "    (BenchmarkTools).run(##377)\n",
       "end"
      ]
     },
     "execution_count": 57,
     "metadata": {},
     "output_type": "execute_result"
    }
   ],
   "source": [
    "@macroexpand @benchmark ff!(q)"
   ]
  },
  {
   "cell_type": "code",
   "execution_count": 56,
   "metadata": {},
   "outputs": [
    {
     "data": {
      "text/latex": [
       "\\begin{verbatim}\n",
       "@show\n",
       "\\end{verbatim}\n",
       "Show an expression and result, returning the result.\n",
       "\n"
      ],
      "text/markdown": [
       "```\n",
       "@show\n",
       "```\n",
       "\n",
       "Show an expression and result, returning the result.\n"
      ],
      "text/plain": [
       "\u001b[36m  @show\u001b[39m\n",
       "\n",
       "  Show an expression and result, returning the result."
      ]
     },
     "execution_count": 56,
     "metadata": {},
     "output_type": "execute_result"
    }
   ],
   "source": [
    "?@show"
   ]
  },
  {
   "cell_type": "code",
   "execution_count": 61,
   "metadata": {},
   "outputs": [
    {
     "name": "stdout",
     "output_type": "stream",
     "text": [
      "search: \u001b[0m\u001b[1md\u001b[22m\u001b[0m\u001b[1mu\u001b[22m\u001b[0m\u001b[1mm\u001b[22m\u001b[0m\u001b[1mp\u001b[22m Universal\u001b[0m\u001b[1mD\u001b[22meclarationOfH\u001b[0m\u001b[1mu\u001b[22m\u001b[0m\u001b[1mm\u001b[22manRightsStart\n",
      "\n"
     ]
    },
    {
     "data": {
      "text/latex": [
       "\\begin{verbatim}\n",
       "dump(x; maxdepth=8)\n",
       "\\end{verbatim}\n",
       "Show every part of the representation of a value. The depth of the output is truncated at \\texttt{maxdepth}.\n",
       "\n",
       "\\section{Examples}\n",
       "\\begin{verbatim}\n",
       "julia> struct MyStruct\n",
       "           x\n",
       "           y\n",
       "       end\n",
       "\n",
       "julia> x = MyStruct(1, (2,3));\n",
       "\n",
       "julia> dump(x)\n",
       "MyStruct\n",
       "  x: Int64 1\n",
       "  y: Tuple{Int64,Int64}\n",
       "    1: Int64 2\n",
       "    2: Int64 3\n",
       "\n",
       "julia> dump(x; maxdepth = 1)\n",
       "MyStruct\n",
       "  x: Int64 1\n",
       "  y: Tuple{Int64,Int64}\n",
       "\\end{verbatim}\n"
      ],
      "text/markdown": [
       "```\n",
       "dump(x; maxdepth=8)\n",
       "```\n",
       "\n",
       "Show every part of the representation of a value. The depth of the output is truncated at `maxdepth`.\n",
       "\n",
       "# Examples\n",
       "\n",
       "```jldoctest\n",
       "julia> struct MyStruct\n",
       "           x\n",
       "           y\n",
       "       end\n",
       "\n",
       "julia> x = MyStruct(1, (2,3));\n",
       "\n",
       "julia> dump(x)\n",
       "MyStruct\n",
       "  x: Int64 1\n",
       "  y: Tuple{Int64,Int64}\n",
       "    1: Int64 2\n",
       "    2: Int64 3\n",
       "\n",
       "julia> dump(x; maxdepth = 1)\n",
       "MyStruct\n",
       "  x: Int64 1\n",
       "  y: Tuple{Int64,Int64}\n",
       "```\n"
      ],
      "text/plain": [
       "\u001b[36m  dump(x; maxdepth=8)\u001b[39m\n",
       "\n",
       "  Show every part of the representation of a value. The depth of the output is\n",
       "  truncated at \u001b[36mmaxdepth\u001b[39m.\n",
       "\n",
       "\u001b[1m  Examples\u001b[22m\n",
       "\u001b[1m  ≡≡≡≡≡≡≡≡≡≡\u001b[22m\n",
       "\n",
       "\u001b[36m  julia> struct MyStruct\u001b[39m\n",
       "\u001b[36m             x\u001b[39m\n",
       "\u001b[36m             y\u001b[39m\n",
       "\u001b[36m         end\u001b[39m\n",
       "\u001b[36m  \u001b[39m\n",
       "\u001b[36m  julia> x = MyStruct(1, (2,3));\u001b[39m\n",
       "\u001b[36m  \u001b[39m\n",
       "\u001b[36m  julia> dump(x)\u001b[39m\n",
       "\u001b[36m  MyStruct\u001b[39m\n",
       "\u001b[36m    x: Int64 1\u001b[39m\n",
       "\u001b[36m    y: Tuple{Int64,Int64}\u001b[39m\n",
       "\u001b[36m      1: Int64 2\u001b[39m\n",
       "\u001b[36m      2: Int64 3\u001b[39m\n",
       "\u001b[36m  \u001b[39m\n",
       "\u001b[36m  julia> dump(x; maxdepth = 1)\u001b[39m\n",
       "\u001b[36m  MyStruct\u001b[39m\n",
       "\u001b[36m    x: Int64 1\u001b[39m\n",
       "\u001b[36m    y: Tuple{Int64,Int64}\u001b[39m"
      ]
     },
     "execution_count": 61,
     "metadata": {},
     "output_type": "execute_result"
    }
   ],
   "source": [
    "?dump"
   ]
  },
  {
   "cell_type": "code",
   "execution_count": 63,
   "metadata": {},
   "outputs": [
    {
     "name": "stdout",
     "output_type": "stream",
     "text": [
      "Expr\n",
      "  head: Symbol vect\n",
      "  args: Array{Any}((3,))\n",
      "    1: Int64 1\n",
      "    2: Int64 2\n",
      "    3: Int64 3\n"
     ]
    }
   ],
   "source": [
    "dump(:([1,2,3]))"
   ]
  },
  {
   "cell_type": "code",
   "execution_count": 64,
   "metadata": {},
   "outputs": [
    {
     "name": "stdout",
     "output_type": "stream",
     "text": [
      "Expr\n",
      "  head: Symbol call\n",
      "  args: Array{Any}((3,))\n",
      "    1: Symbol .^\n",
      "    2: Expr\n",
      "      head: Symbol vect\n",
      "      args: Array{Any}((3,))\n",
      "        1: Int64 1\n",
      "        2: Int64 2\n",
      "        3: Int64 3\n",
      "    3: Int64 2\n"
     ]
    }
   ],
   "source": [
    "dump(:([1,2,3].^2))"
   ]
  },
  {
   "cell_type": "code",
   "execution_count": 66,
   "metadata": {},
   "outputs": [
    {
     "data": {
      "text/plain": [
       "0.7071067811865476 + 0.7071067811865475im"
      ]
     },
     "execution_count": 66,
     "metadata": {},
     "output_type": "execute_result"
    }
   ],
   "source": [
    "√√(-1+0im)"
   ]
  },
  {
   "cell_type": "code",
   "execution_count": 67,
   "metadata": {},
   "outputs": [
    {
     "data": {
      "text/plain": [
       "-1.0 + 4.440892098500626e-16im"
      ]
     },
     "execution_count": 67,
     "metadata": {},
     "output_type": "execute_result"
    }
   ],
   "source": [
    "ans^4"
   ]
  },
  {
   "cell_type": "code",
   "execution_count": 68,
   "metadata": {},
   "outputs": [
    {
     "data": {
      "text/plain": [
       "0x47"
      ]
     },
     "execution_count": 68,
     "metadata": {},
     "output_type": "execute_result"
    }
   ],
   "source": [
    "1000007 %UInt8"
   ]
  },
  {
   "cell_type": "code",
   "execution_count": 69,
   "metadata": {},
   "outputs": [
    {
     "data": {
      "text/plain": [
       "0x4247"
      ]
     },
     "execution_count": 69,
     "metadata": {},
     "output_type": "execute_result"
    }
   ],
   "source": [
    "1000007 %UInt16"
   ]
  },
  {
   "cell_type": "code",
   "execution_count": 70,
   "metadata": {},
   "outputs": [
    {
     "data": {
      "text/plain": [
       "0x000f4247"
      ]
     },
     "execution_count": 70,
     "metadata": {},
     "output_type": "execute_result"
    }
   ],
   "source": [
    "1000007 %UInt32"
   ]
  },
  {
   "cell_type": "code",
   "execution_count": 71,
   "metadata": {},
   "outputs": [
    {
     "data": {
      "text/plain": [
       "0x00000000000f4247"
      ]
     },
     "execution_count": 71,
     "metadata": {},
     "output_type": "execute_result"
    }
   ],
   "source": [
    "1000007 %UInt64"
   ]
  },
  {
   "cell_type": "code",
   "execution_count": 72,
   "metadata": {},
   "outputs": [
    {
     "data": {
      "text/plain": [
       "6.0"
      ]
     },
     "execution_count": 72,
     "metadata": {},
     "output_type": "execute_result"
    }
   ],
   "source": [
    "round(6.5)"
   ]
  },
  {
   "cell_type": "code",
   "execution_count": 73,
   "metadata": {},
   "outputs": [
    {
     "data": {
      "text/plain": [
       "6"
      ]
     },
     "execution_count": 73,
     "metadata": {},
     "output_type": "execute_result"
    }
   ],
   "source": [
    "round(Int,6.5)"
   ]
  },
  {
   "cell_type": "code",
   "execution_count": 74,
   "metadata": {},
   "outputs": [
    {
     "data": {
      "text/plain": [
       "6"
      ]
     },
     "execution_count": 74,
     "metadata": {},
     "output_type": "execute_result"
    }
   ],
   "source": [
    "round(Int8,6.5)"
   ]
  },
  {
   "cell_type": "code",
   "execution_count": 75,
   "metadata": {},
   "outputs": [
    {
     "data": {
      "text/plain": [
       "106"
      ]
     },
     "execution_count": 75,
     "metadata": {},
     "output_type": "execute_result"
    }
   ],
   "source": [
    "round(Int8,106.5)"
   ]
  },
  {
   "cell_type": "code",
   "execution_count": 76,
   "metadata": {},
   "outputs": [
    {
     "ename": "InexactError",
     "evalue": "InexactError: trunc(Int8, 506.0)",
     "output_type": "error",
     "traceback": [
      "InexactError: trunc(Int8, 506.0)",
      "",
      "Stacktrace:",
      " [1] trunc at .\\float.jl:672 [inlined]",
      " [2] round(::Type{Int8}, ::Float64) at .\\float.jl:359",
      " [3] top-level scope at In[76]:1"
     ]
    }
   ],
   "source": [
    "round(Int8,506.5)"
   ]
  },
  {
   "cell_type": "code",
   "execution_count": 77,
   "metadata": {},
   "outputs": [],
   "source": [
    "using SpecialFunctions"
   ]
  },
  {
   "cell_type": "code",
   "execution_count": 78,
   "metadata": {},
   "outputs": [],
   "source": [
    "using Plots"
   ]
  },
  {
   "cell_type": "code",
   "execution_count": 79,
   "metadata": {},
   "outputs": [
    {
     "data": {
      "text/plain": [
       "Plots.GRBackend()"
      ]
     },
     "execution_count": 79,
     "metadata": {},
     "output_type": "execute_result"
    }
   ],
   "source": [
    "gr()"
   ]
  },
  {
   "cell_type": "code",
   "execution_count": 85,
   "metadata": {},
   "outputs": [
    {
     "data": {
      "image/svg+xml": [
       "<?xml version=\"1.0\" encoding=\"utf-8\"?>\n",
       "<svg xmlns=\"http://www.w3.org/2000/svg\" xmlns:xlink=\"http://www.w3.org/1999/xlink\" width=\"600\" height=\"400\" viewBox=\"0 0 2400 1600\">\n",
       "<defs>\n",
       "  <clipPath id=\"clip4100\">\n",
       "    <rect x=\"0\" y=\"0\" width=\"2000\" height=\"2000\"/>\n",
       "  </clipPath>\n",
       "</defs>\n",
       "<defs>\n",
       "  <clipPath id=\"clip4101\">\n",
       "    <rect x=\"0\" y=\"0\" width=\"2400\" height=\"1600\"/>\n",
       "  </clipPath>\n",
       "</defs>\n",
       "<polygon clip-path=\"url(#clip4101)\" points=\"\n",
       "0,1600 2400,1600 2400,0 0,0 \n",
       "  \" fill=\"#ffffff\" fill-rule=\"evenodd\" fill-opacity=\"1\"/>\n",
       "<defs>\n",
       "  <clipPath id=\"clip4102\">\n",
       "    <rect x=\"480\" y=\"0\" width=\"1681\" height=\"1600\"/>\n",
       "  </clipPath>\n",
       "</defs>\n",
       "<polygon clip-path=\"url(#clip4101)\" points=\"\n",
       "189.504,1503.47 2321.26,1503.47 2321.26,125.984 189.504,125.984 \n",
       "  \" fill=\"#ffffff\" fill-rule=\"evenodd\" fill-opacity=\"1\"/>\n",
       "<defs>\n",
       "  <clipPath id=\"clip4103\">\n",
       "    <rect x=\"189\" y=\"125\" width=\"2133\" height=\"1378\"/>\n",
       "  </clipPath>\n",
       "</defs>\n",
       "<polyline clip-path=\"url(#clip4103)\" style=\"stroke:#000000; stroke-width:2; stroke-opacity:0.1; fill:none\" points=\"\n",
       "  244.899,1503.47 244.899,125.984 \n",
       "  \"/>\n",
       "<polyline clip-path=\"url(#clip4103)\" style=\"stroke:#000000; stroke-width:2; stroke-opacity:0.1; fill:none\" points=\"\n",
       "  750.513,1503.47 750.513,125.984 \n",
       "  \"/>\n",
       "<polyline clip-path=\"url(#clip4103)\" style=\"stroke:#000000; stroke-width:2; stroke-opacity:0.1; fill:none\" points=\"\n",
       "  1256.13,1503.47 1256.13,125.984 \n",
       "  \"/>\n",
       "<polyline clip-path=\"url(#clip4103)\" style=\"stroke:#000000; stroke-width:2; stroke-opacity:0.1; fill:none\" points=\"\n",
       "  1761.74,1503.47 1761.74,125.984 \n",
       "  \"/>\n",
       "<polyline clip-path=\"url(#clip4103)\" style=\"stroke:#000000; stroke-width:2; stroke-opacity:0.1; fill:none\" points=\"\n",
       "  2267.35,1503.47 2267.35,125.984 \n",
       "  \"/>\n",
       "<polyline clip-path=\"url(#clip4103)\" style=\"stroke:#000000; stroke-width:2; stroke-opacity:0.1; fill:none\" points=\"\n",
       "  189.504,1259.8 2321.26,1259.8 \n",
       "  \"/>\n",
       "<polyline clip-path=\"url(#clip4103)\" style=\"stroke:#000000; stroke-width:2; stroke-opacity:0.1; fill:none\" points=\"\n",
       "  189.504,979.58 2321.26,979.58 \n",
       "  \"/>\n",
       "<polyline clip-path=\"url(#clip4103)\" style=\"stroke:#000000; stroke-width:2; stroke-opacity:0.1; fill:none\" points=\"\n",
       "  189.504,699.36 2321.26,699.36 \n",
       "  \"/>\n",
       "<polyline clip-path=\"url(#clip4103)\" style=\"stroke:#000000; stroke-width:2; stroke-opacity:0.1; fill:none\" points=\"\n",
       "  189.504,419.14 2321.26,419.14 \n",
       "  \"/>\n",
       "<polyline clip-path=\"url(#clip4103)\" style=\"stroke:#000000; stroke-width:2; stroke-opacity:0.1; fill:none\" points=\"\n",
       "  189.504,138.921 2321.26,138.921 \n",
       "  \"/>\n",
       "<polyline clip-path=\"url(#clip4101)\" style=\"stroke:#000000; stroke-width:4; stroke-opacity:1; fill:none\" points=\"\n",
       "  189.504,1503.47 2321.26,1503.47 \n",
       "  \"/>\n",
       "<polyline clip-path=\"url(#clip4101)\" style=\"stroke:#000000; stroke-width:4; stroke-opacity:1; fill:none\" points=\"\n",
       "  189.504,1503.47 189.504,125.984 \n",
       "  \"/>\n",
       "<polyline clip-path=\"url(#clip4101)\" style=\"stroke:#000000; stroke-width:4; stroke-opacity:1; fill:none\" points=\"\n",
       "  244.899,1503.47 244.899,1482.81 \n",
       "  \"/>\n",
       "<polyline clip-path=\"url(#clip4101)\" style=\"stroke:#000000; stroke-width:4; stroke-opacity:1; fill:none\" points=\"\n",
       "  750.513,1503.47 750.513,1482.81 \n",
       "  \"/>\n",
       "<polyline clip-path=\"url(#clip4101)\" style=\"stroke:#000000; stroke-width:4; stroke-opacity:1; fill:none\" points=\"\n",
       "  1256.13,1503.47 1256.13,1482.81 \n",
       "  \"/>\n",
       "<polyline clip-path=\"url(#clip4101)\" style=\"stroke:#000000; stroke-width:4; stroke-opacity:1; fill:none\" points=\"\n",
       "  1761.74,1503.47 1761.74,1482.81 \n",
       "  \"/>\n",
       "<polyline clip-path=\"url(#clip4101)\" style=\"stroke:#000000; stroke-width:4; stroke-opacity:1; fill:none\" points=\"\n",
       "  2267.35,1503.47 2267.35,1482.81 \n",
       "  \"/>\n",
       "<polyline clip-path=\"url(#clip4101)\" style=\"stroke:#000000; stroke-width:4; stroke-opacity:1; fill:none\" points=\"\n",
       "  189.504,1259.8 221.48,1259.8 \n",
       "  \"/>\n",
       "<polyline clip-path=\"url(#clip4101)\" style=\"stroke:#000000; stroke-width:4; stroke-opacity:1; fill:none\" points=\"\n",
       "  189.504,979.58 221.48,979.58 \n",
       "  \"/>\n",
       "<polyline clip-path=\"url(#clip4101)\" style=\"stroke:#000000; stroke-width:4; stroke-opacity:1; fill:none\" points=\"\n",
       "  189.504,699.36 221.48,699.36 \n",
       "  \"/>\n",
       "<polyline clip-path=\"url(#clip4101)\" style=\"stroke:#000000; stroke-width:4; stroke-opacity:1; fill:none\" points=\"\n",
       "  189.504,419.14 221.48,419.14 \n",
       "  \"/>\n",
       "<polyline clip-path=\"url(#clip4101)\" style=\"stroke:#000000; stroke-width:4; stroke-opacity:1; fill:none\" points=\"\n",
       "  189.504,138.921 221.48,138.921 \n",
       "  \"/>\n",
       "<g clip-path=\"url(#clip4101)\">\n",
       "<text style=\"fill:#000000; fill-opacity:1; font-family:Arial,Helvetica Neue,Helvetica,sans-serif; font-size:48px; text-anchor:middle;\" transform=\"rotate(0, 244.899, 1557.47)\" x=\"244.899\" y=\"1557.47\">0</text>\n",
       "</g>\n",
       "<g clip-path=\"url(#clip4101)\">\n",
       "<text style=\"fill:#000000; fill-opacity:1; font-family:Arial,Helvetica Neue,Helvetica,sans-serif; font-size:48px; text-anchor:middle;\" transform=\"rotate(0, 750.513, 1557.47)\" x=\"750.513\" y=\"1557.47\">5</text>\n",
       "</g>\n",
       "<g clip-path=\"url(#clip4101)\">\n",
       "<text style=\"fill:#000000; fill-opacity:1; font-family:Arial,Helvetica Neue,Helvetica,sans-serif; font-size:48px; text-anchor:middle;\" transform=\"rotate(0, 1256.13, 1557.47)\" x=\"1256.13\" y=\"1557.47\">10</text>\n",
       "</g>\n",
       "<g clip-path=\"url(#clip4101)\">\n",
       "<text style=\"fill:#000000; fill-opacity:1; font-family:Arial,Helvetica Neue,Helvetica,sans-serif; font-size:48px; text-anchor:middle;\" transform=\"rotate(0, 1761.74, 1557.47)\" x=\"1761.74\" y=\"1557.47\">15</text>\n",
       "</g>\n",
       "<g clip-path=\"url(#clip4101)\">\n",
       "<text style=\"fill:#000000; fill-opacity:1; font-family:Arial,Helvetica Neue,Helvetica,sans-serif; font-size:48px; text-anchor:middle;\" transform=\"rotate(0, 2267.35, 1557.47)\" x=\"2267.35\" y=\"1557.47\">20</text>\n",
       "</g>\n",
       "<g clip-path=\"url(#clip4101)\">\n",
       "<text style=\"fill:#000000; fill-opacity:1; font-family:Arial,Helvetica Neue,Helvetica,sans-serif; font-size:48px; text-anchor:end;\" transform=\"rotate(0, 165.504, 1277.3)\" x=\"165.504\" y=\"1277.3\">-0.2</text>\n",
       "</g>\n",
       "<g clip-path=\"url(#clip4101)\">\n",
       "<text style=\"fill:#000000; fill-opacity:1; font-family:Arial,Helvetica Neue,Helvetica,sans-serif; font-size:48px; text-anchor:end;\" transform=\"rotate(0, 165.504, 997.08)\" x=\"165.504\" y=\"997.08\">0.0</text>\n",
       "</g>\n",
       "<g clip-path=\"url(#clip4101)\">\n",
       "<text style=\"fill:#000000; fill-opacity:1; font-family:Arial,Helvetica Neue,Helvetica,sans-serif; font-size:48px; text-anchor:end;\" transform=\"rotate(0, 165.504, 716.86)\" x=\"165.504\" y=\"716.86\">0.2</text>\n",
       "</g>\n",
       "<g clip-path=\"url(#clip4101)\">\n",
       "<text style=\"fill:#000000; fill-opacity:1; font-family:Arial,Helvetica Neue,Helvetica,sans-serif; font-size:48px; text-anchor:end;\" transform=\"rotate(0, 165.504, 436.64)\" x=\"165.504\" y=\"436.64\">0.4</text>\n",
       "</g>\n",
       "<g clip-path=\"url(#clip4101)\">\n",
       "<text style=\"fill:#000000; fill-opacity:1; font-family:Arial,Helvetica Neue,Helvetica,sans-serif; font-size:48px; text-anchor:end;\" transform=\"rotate(0, 165.504, 156.421)\" x=\"165.504\" y=\"156.421\">0.6</text>\n",
       "</g>\n",
       "<g clip-path=\"url(#clip4101)\">\n",
       "<text style=\"fill:#000000; fill-opacity:1; font-family:Arial,Helvetica Neue,Helvetica,sans-serif; font-size:84px; text-anchor:middle;\" transform=\"rotate(0, 1255.38, 73.2)\" x=\"1255.38\" y=\"73.2\">Graph</text>\n",
       "</g>\n",
       "<polyline clip-path=\"url(#clip4103)\" style=\"stroke:#009af9; stroke-width:4; stroke-opacity:1; fill:none\" points=\"\n",
       "  249.837,945.383 254.775,911.247 259.712,877.233 264.65,843.402 287.478,691.093 310.306,549.743 321.721,484.863 333.135,424.667 344.549,369.71 355.963,320.491 \n",
       "  367.377,277.451 378.791,240.964 390.205,211.335 401.619,188.799 413.033,173.515 424.448,165.569 435.862,164.97 447.276,171.649 460.995,189.105 474.713,216.483 \n",
       "  488.432,253.255 502.151,298.755 515.87,352.195 529.589,412.674 543.307,479.195 557.026,550.682 580.224,679.653 603.423,813.796 626.621,947.263 649.819,1074.37 \n",
       "  662.419,1138.85 675.019,1199.13 687.618,1254.49 700.218,1304.31 712.818,1348.05 725.418,1385.26 738.018,1415.57 750.618,1438.71 762.234,1453.57 773.85,1462.15 \n",
       "  785.466,1464.49 797.081,1460.67 808.697,1450.87 820.313,1435.32 831.929,1414.31 843.545,1388.21 855.999,1355.04 868.452,1317.07 880.906,1274.91 893.359,1229.26 \n",
       "  918.266,1130.33 943.173,1026.26 972.031,907.259 1000.89,798.515 1015.32,750.527 1029.75,707.963 1044.17,671.554 1058.6,641.903 1071.42,621.599 1084.25,607.226 \n",
       "  1097.07,598.919 1109.89,596.718 1122.71,600.568 1135.54,610.324 1148.36,625.752 1161.18,646.533 1172.43,668.85 1183.67,694.669 1194.91,723.637 1206.16,755.372 \n",
       "  1228.65,825.466 1251.14,901.401 1275.65,986.444 1300.17,1069.09 1324.69,1144.72 1349.21,1209.17 1361.54,1236.26 1373.87,1259.28 1386.2,1277.96 1398.54,1292.07 \n",
       "  1410.87,1301.44 1423.2,1305.99 1435.53,1305.71 1447.86,1300.65 1461.5,1289.63 1475.13,1273.18 1488.77,1251.65 1502.4,1225.47 1516.04,1195.17 1529.67,1161.32 \n",
       "  1543.31,1124.56 1556.94,1085.59 1582.89,1007.89 1608.83,929.868 1634.78,856.518 1660.72,792.466 1674.21,764.183 1687.7,739.955 1701.19,720.169 1714.68,705.132 \n",
       "  1728.17,695.063 1741.66,690.093 1755.15,690.265 1768.64,695.531 1779.99,703.813 1791.35,715.479 1802.7,730.36 1814.06,748.248 1825.41,768.898 1836.76,792.033 \n",
       "  1848.12,817.348 1859.47,844.512 1887.2,916.393 1914.93,991.733 1942.65,1064.94 1970.38,1130.65 1983.41,1157.57 1996.44,1181.37 2009.47,1201.66 2022.5,1218.15 \n",
       "  2035.53,1230.58 2048.57,1238.8 2061.6,1242.68 2074.63,1242.2 2085.07,1238.69 2095.51,1232.46 2105.95,1223.59 2116.38,1212.19 2137.26,1182.34 2158.14,1144.28 \n",
       "  2199.89,1050.53 2241.65,946.993 2248.08,931.302 2254.5,915.856 2260.93,900.715 \n",
       "  \"/>\n",
       "</svg>\n"
      ]
     },
     "execution_count": 85,
     "metadata": {},
     "output_type": "execute_result"
    }
   ],
   "source": [
    "plot(x->besselj(1,x),0.0,20.0,title=\"Graph\",label=\"\")"
   ]
  },
  {
   "cell_type": "code",
   "execution_count": 86,
   "metadata": {},
   "outputs": [
    {
     "data": {
      "text/plain": [
       "11//25 + 2//25*im"
      ]
     },
     "execution_count": 86,
     "metadata": {},
     "output_type": "execute_result"
    }
   ],
   "source": [
    "(1+2im)//(3+4im)"
   ]
  },
  {
   "cell_type": "code",
   "execution_count": 87,
   "metadata": {},
   "outputs": [
    {
     "data": {
      "text/plain": [
       "32125393//152587890625 + 242017776//152587890625*im"
      ]
     },
     "execution_count": 87,
     "metadata": {},
     "output_type": "execute_result"
    }
   ],
   "source": [
    "ans^8"
   ]
  },
  {
   "cell_type": "code",
   "execution_count": 88,
   "metadata": {},
   "outputs": [
    {
     "data": {
      "text/plain": [
       "0.0002105369755648 + 0.0015860876967936im"
      ]
     },
     "execution_count": 88,
     "metadata": {},
     "output_type": "execute_result"
    }
   ],
   "source": [
    "float(ans)"
   ]
  },
  {
   "cell_type": "code",
   "execution_count": 89,
   "metadata": {},
   "outputs": [
    {
     "data": {
      "text/plain": [
       "1//1"
      ]
     },
     "execution_count": 89,
     "metadata": {},
     "output_type": "execute_result"
    }
   ],
   "source": [
    "one(3//4)"
   ]
  },
  {
   "cell_type": "code",
   "execution_count": null,
   "metadata": {},
   "outputs": [],
   "source": []
  }
 ],
 "metadata": {
  "kernelspec": {
   "display_name": "Julia 1.0.3",
   "language": "julia",
   "name": "julia-1.0"
  },
  "language_info": {
   "file_extension": ".jl",
   "mimetype": "application/julia",
   "name": "julia",
   "version": "1.0.3"
  }
 },
 "nbformat": 4,
 "nbformat_minor": 2
}
